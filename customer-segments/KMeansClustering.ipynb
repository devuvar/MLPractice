{
 "cells": [
  {
   "cell_type": "code",
   "execution_count": 1,
   "metadata": {},
   "outputs": [],
   "source": [
    "from __future__ import print_function"
   ]
  },
  {
   "cell_type": "code",
   "execution_count": 2,
   "metadata": {},
   "outputs": [],
   "source": [
    "import numpy as np\n",
    "import pandas as pd\n",
    "from matplotlib import pyplot as plt\n",
    "%matplotlib inline\n",
    "\n",
    "import seaborn as sns"
   ]
  },
  {
   "cell_type": "code",
   "execution_count": 3,
   "metadata": {},
   "outputs": [],
   "source": [
    "base_df = pd.read_csv('analytical_base_table.csv', index_col=0)\n",
    "\n",
    "threshold_item_data = pd.read_csv('threshold_item_data.csv', index_col=0)\n",
    "\n",
    "pca_item_data = pd.read_csv('pca_item_data.csv', index_col=0)\n",
    "\n",
    "pca_item_data_short = pd.read_csv('pca_item_data_short.csv', index_col=0)"
   ]
  },
  {
   "cell_type": "code",
   "execution_count": 4,
   "metadata": {},
   "outputs": [
    {
     "name": "stdout",
     "output_type": "stream",
     "text": [
      "(414, 8)\n",
      "(414, 31)\n",
      "(414, 130)\n",
      "(414, 30)\n"
     ]
    }
   ],
   "source": [
    "print( base_df.shape )\n",
    "print( threshold_item_data.shape )\n",
    "print( pca_item_data.shape )\n",
    "print( pca_item_data_short.shape )"
   ]
  },
  {
   "cell_type": "code",
   "execution_count": 5,
   "metadata": {},
   "outputs": [],
   "source": [
    "# Join base_df with threshold_item_data\n",
    "threshold_df = base_df.join(threshold_item_data)"
   ]
  },
  {
   "cell_type": "code",
   "execution_count": 6,
   "metadata": {},
   "outputs": [],
   "source": [
    "# Join base_df with pca_item_data\n",
    "pca_df = base_df.join(pca_item_data)"
   ]
  },
  {
   "cell_type": "code",
   "execution_count": 7,
   "metadata": {},
   "outputs": [],
   "source": [
    "# Join base_df with pca_item_data_short\n",
    "pca_short_df = base_df.join(pca_item_data_short)"
   ]
  },
  {
   "cell_type": "code",
   "execution_count": 8,
   "metadata": {},
   "outputs": [],
   "source": [
    "from sklearn.pipeline import make_pipeline\n",
    "from sklearn.preprocessing import StandardScaler\n",
    "from sklearn.cluster import KMeans"
   ]
  },
  {
   "cell_type": "markdown",
   "metadata": {},
   "source": [
    "## KMeans on base_df"
   ]
  },
  {
   "cell_type": "code",
   "execution_count": 9,
   "metadata": {},
   "outputs": [],
   "source": [
    "k_means = make_pipeline(StandardScaler(), KMeans(n_clusters=3, random_state=123))"
   ]
  },
  {
   "cell_type": "code",
   "execution_count": 10,
   "metadata": {},
   "outputs": [
    {
     "data": {
      "text/plain": [
       "Pipeline(memory=None,\n",
       "     steps=[('standardscaler', StandardScaler(copy=True, with_mean=True, with_std=True)), ('kmeans', KMeans(algorithm='auto', copy_x=True, init='k-means++', max_iter=300,\n",
       "    n_clusters=3, n_init=10, n_jobs=1, precompute_distances='auto',\n",
       "    random_state=123, tol=0.0001, verbose=0))])"
      ]
     },
     "execution_count": 10,
     "metadata": {},
     "output_type": "execute_result"
    }
   ],
   "source": [
    "k_means.fit(base_df)"
   ]
  },
  {
   "cell_type": "code",
   "execution_count": 11,
   "metadata": {},
   "outputs": [
    {
     "data": {
      "text/html": [
       "<div>\n",
       "<style scoped>\n",
       "    .dataframe tbody tr th:only-of-type {\n",
       "        vertical-align: middle;\n",
       "    }\n",
       "\n",
       "    .dataframe tbody tr th {\n",
       "        vertical-align: top;\n",
       "    }\n",
       "\n",
       "    .dataframe thead th {\n",
       "        text-align: right;\n",
       "    }\n",
       "</style>\n",
       "<table border=\"1\" class=\"dataframe\">\n",
       "  <thead>\n",
       "    <tr style=\"text-align: right;\">\n",
       "      <th></th>\n",
       "      <th>total_transactions</th>\n",
       "      <th>total_products</th>\n",
       "      <th>total_unique_products</th>\n",
       "      <th>avg_product_value</th>\n",
       "      <th>total_sales</th>\n",
       "      <th>min_cart_value</th>\n",
       "      <th>max_cart_value</th>\n",
       "      <th>avg_cart_value</th>\n",
       "      <th>cluster</th>\n",
       "    </tr>\n",
       "    <tr>\n",
       "      <th>CustomerID</th>\n",
       "      <th></th>\n",
       "      <th></th>\n",
       "      <th></th>\n",
       "      <th></th>\n",
       "      <th></th>\n",
       "      <th></th>\n",
       "      <th></th>\n",
       "      <th></th>\n",
       "      <th></th>\n",
       "    </tr>\n",
       "  </thead>\n",
       "  <tbody>\n",
       "    <tr>\n",
       "      <th>12347</th>\n",
       "      <td>7</td>\n",
       "      <td>182</td>\n",
       "      <td>103</td>\n",
       "      <td>23.681319</td>\n",
       "      <td>4310.00</td>\n",
       "      <td>224.82</td>\n",
       "      <td>1294.32</td>\n",
       "      <td>615.714286</td>\n",
       "      <td>1</td>\n",
       "    </tr>\n",
       "    <tr>\n",
       "      <th>12348</th>\n",
       "      <td>4</td>\n",
       "      <td>31</td>\n",
       "      <td>22</td>\n",
       "      <td>57.975484</td>\n",
       "      <td>1797.24</td>\n",
       "      <td>227.44</td>\n",
       "      <td>892.80</td>\n",
       "      <td>449.310000</td>\n",
       "      <td>0</td>\n",
       "    </tr>\n",
       "    <tr>\n",
       "      <th>12349</th>\n",
       "      <td>1</td>\n",
       "      <td>73</td>\n",
       "      <td>73</td>\n",
       "      <td>24.076027</td>\n",
       "      <td>1757.55</td>\n",
       "      <td>1757.55</td>\n",
       "      <td>1757.55</td>\n",
       "      <td>1757.550000</td>\n",
       "      <td>0</td>\n",
       "    </tr>\n",
       "    <tr>\n",
       "      <th>12350</th>\n",
       "      <td>1</td>\n",
       "      <td>17</td>\n",
       "      <td>17</td>\n",
       "      <td>19.670588</td>\n",
       "      <td>334.40</td>\n",
       "      <td>334.40</td>\n",
       "      <td>334.40</td>\n",
       "      <td>334.400000</td>\n",
       "      <td>0</td>\n",
       "    </tr>\n",
       "    <tr>\n",
       "      <th>12352</th>\n",
       "      <td>8</td>\n",
       "      <td>85</td>\n",
       "      <td>59</td>\n",
       "      <td>29.482824</td>\n",
       "      <td>2506.04</td>\n",
       "      <td>120.33</td>\n",
       "      <td>840.30</td>\n",
       "      <td>313.255000</td>\n",
       "      <td>0</td>\n",
       "    </tr>\n",
       "  </tbody>\n",
       "</table>\n",
       "</div>"
      ],
      "text/plain": [
       "            total_transactions  total_products  total_unique_products  \\\n",
       "CustomerID                                                              \n",
       "12347                        7             182                    103   \n",
       "12348                        4              31                     22   \n",
       "12349                        1              73                     73   \n",
       "12350                        1              17                     17   \n",
       "12352                        8              85                     59   \n",
       "\n",
       "            avg_product_value  total_sales  min_cart_value  max_cart_value  \\\n",
       "CustomerID                                                                   \n",
       "12347               23.681319      4310.00          224.82         1294.32   \n",
       "12348               57.975484      1797.24          227.44          892.80   \n",
       "12349               24.076027      1757.55         1757.55         1757.55   \n",
       "12350               19.670588       334.40          334.40          334.40   \n",
       "12352               29.482824      2506.04          120.33          840.30   \n",
       "\n",
       "            avg_cart_value  cluster  \n",
       "CustomerID                           \n",
       "12347           615.714286        1  \n",
       "12348           449.310000        0  \n",
       "12349          1757.550000        0  \n",
       "12350           334.400000        0  \n",
       "12352           313.255000        0  "
      ]
     },
     "execution_count": 11,
     "metadata": {},
     "output_type": "execute_result"
    }
   ],
   "source": [
    "base_df['cluster'] = k_means.predict(base_df)\n",
    "base_df.head()"
   ]
  },
  {
   "cell_type": "code",
   "execution_count": 12,
   "metadata": {},
   "outputs": [
    {
     "data": {
      "text/plain": [
       "<seaborn.axisgrid.FacetGrid at 0x11412fd90>"
      ]
     },
     "execution_count": 12,
     "metadata": {},
     "output_type": "execute_result"
    },
    {
     "data": {
      "image/png": "[encoded data removed]",
      "text/plain": [
       "<matplotlib.figure.Figure at 0x11413ca10>"
      ]
     },
     "metadata": {},
     "output_type": "display_data"
    }
   ],
   "source": [
    "sns.lmplot(x='total_sales', y='avg_cart_value', hue='cluster', data=base_df, fit_reg=False)"
   ]
  },
  {
   "cell_type": "markdown",
   "metadata": {},
   "source": [
    "## KMeans on threshold_df"
   ]
  },
  {
   "cell_type": "code",
   "execution_count": 13,
   "metadata": {},
   "outputs": [
    {
     "data": {
      "text/html": [
       "<div>\n",
       "<style scoped>\n",
       "    .dataframe tbody tr th:only-of-type {\n",
       "        vertical-align: middle;\n",
       "    }\n",
       "\n",
       "    .dataframe tbody tr th {\n",
       "        vertical-align: top;\n",
       "    }\n",
       "\n",
       "    .dataframe thead th {\n",
       "        text-align: right;\n",
       "    }\n",
       "</style>\n",
       "<table border=\"1\" class=\"dataframe\">\n",
       "  <thead>\n",
       "    <tr style=\"text-align: right;\">\n",
       "      <th></th>\n",
       "      <th>total_transactions</th>\n",
       "      <th>total_products</th>\n",
       "      <th>total_unique_products</th>\n",
       "      <th>avg_product_value</th>\n",
       "      <th>total_sales</th>\n",
       "      <th>min_cart_value</th>\n",
       "      <th>max_cart_value</th>\n",
       "      <th>avg_cart_value</th>\n",
       "      <th>21086</th>\n",
       "      <th>23206</th>\n",
       "      <th>...</th>\n",
       "      <th>22551</th>\n",
       "      <th>22629</th>\n",
       "      <th>22328</th>\n",
       "      <th>21731</th>\n",
       "      <th>22556</th>\n",
       "      <th>22554</th>\n",
       "      <th>22423</th>\n",
       "      <th>22326</th>\n",
       "      <th>POST</th>\n",
       "      <th>cluster</th>\n",
       "    </tr>\n",
       "    <tr>\n",
       "      <th>CustomerID</th>\n",
       "      <th></th>\n",
       "      <th></th>\n",
       "      <th></th>\n",
       "      <th></th>\n",
       "      <th></th>\n",
       "      <th></th>\n",
       "      <th></th>\n",
       "      <th></th>\n",
       "      <th></th>\n",
       "      <th></th>\n",
       "      <th></th>\n",
       "      <th></th>\n",
       "      <th></th>\n",
       "      <th></th>\n",
       "      <th></th>\n",
       "      <th></th>\n",
       "      <th></th>\n",
       "      <th></th>\n",
       "      <th></th>\n",
       "      <th></th>\n",
       "      <th></th>\n",
       "    </tr>\n",
       "  </thead>\n",
       "  <tbody>\n",
       "    <tr>\n",
       "      <th>12347</th>\n",
       "      <td>7</td>\n",
       "      <td>182</td>\n",
       "      <td>103</td>\n",
       "      <td>23.681319</td>\n",
       "      <td>4310.00</td>\n",
       "      <td>224.82</td>\n",
       "      <td>1294.32</td>\n",
       "      <td>615.714286</td>\n",
       "      <td>0</td>\n",
       "      <td>0</td>\n",
       "      <td>...</td>\n",
       "      <td>0</td>\n",
       "      <td>0</td>\n",
       "      <td>0</td>\n",
       "      <td>5</td>\n",
       "      <td>0</td>\n",
       "      <td>0</td>\n",
       "      <td>4</td>\n",
       "      <td>0</td>\n",
       "      <td>0</td>\n",
       "      <td>2</td>\n",
       "    </tr>\n",
       "    <tr>\n",
       "      <th>12348</th>\n",
       "      <td>4</td>\n",
       "      <td>31</td>\n",
       "      <td>22</td>\n",
       "      <td>57.975484</td>\n",
       "      <td>1797.24</td>\n",
       "      <td>227.44</td>\n",
       "      <td>892.80</td>\n",
       "      <td>449.310000</td>\n",
       "      <td>0</td>\n",
       "      <td>0</td>\n",
       "      <td>...</td>\n",
       "      <td>0</td>\n",
       "      <td>0</td>\n",
       "      <td>0</td>\n",
       "      <td>0</td>\n",
       "      <td>0</td>\n",
       "      <td>0</td>\n",
       "      <td>0</td>\n",
       "      <td>0</td>\n",
       "      <td>4</td>\n",
       "      <td>0</td>\n",
       "    </tr>\n",
       "    <tr>\n",
       "      <th>12349</th>\n",
       "      <td>1</td>\n",
       "      <td>73</td>\n",
       "      <td>73</td>\n",
       "      <td>24.076027</td>\n",
       "      <td>1757.55</td>\n",
       "      <td>1757.55</td>\n",
       "      <td>1757.55</td>\n",
       "      <td>1757.550000</td>\n",
       "      <td>1</td>\n",
       "      <td>0</td>\n",
       "      <td>...</td>\n",
       "      <td>0</td>\n",
       "      <td>0</td>\n",
       "      <td>0</td>\n",
       "      <td>0</td>\n",
       "      <td>1</td>\n",
       "      <td>1</td>\n",
       "      <td>1</td>\n",
       "      <td>1</td>\n",
       "      <td>1</td>\n",
       "      <td>0</td>\n",
       "    </tr>\n",
       "    <tr>\n",
       "      <th>12350</th>\n",
       "      <td>1</td>\n",
       "      <td>17</td>\n",
       "      <td>17</td>\n",
       "      <td>19.670588</td>\n",
       "      <td>334.40</td>\n",
       "      <td>334.40</td>\n",
       "      <td>334.40</td>\n",
       "      <td>334.400000</td>\n",
       "      <td>0</td>\n",
       "      <td>0</td>\n",
       "      <td>...</td>\n",
       "      <td>1</td>\n",
       "      <td>0</td>\n",
       "      <td>0</td>\n",
       "      <td>0</td>\n",
       "      <td>0</td>\n",
       "      <td>0</td>\n",
       "      <td>0</td>\n",
       "      <td>0</td>\n",
       "      <td>1</td>\n",
       "      <td>0</td>\n",
       "    </tr>\n",
       "    <tr>\n",
       "      <th>12352</th>\n",
       "      <td>8</td>\n",
       "      <td>85</td>\n",
       "      <td>59</td>\n",
       "      <td>29.482824</td>\n",
       "      <td>2506.04</td>\n",
       "      <td>120.33</td>\n",
       "      <td>840.30</td>\n",
       "      <td>313.255000</td>\n",
       "      <td>0</td>\n",
       "      <td>0</td>\n",
       "      <td>...</td>\n",
       "      <td>0</td>\n",
       "      <td>0</td>\n",
       "      <td>0</td>\n",
       "      <td>1</td>\n",
       "      <td>0</td>\n",
       "      <td>0</td>\n",
       "      <td>2</td>\n",
       "      <td>0</td>\n",
       "      <td>5</td>\n",
       "      <td>0</td>\n",
       "    </tr>\n",
       "  </tbody>\n",
       "</table>\n",
       "<p>5 rows × 40 columns</p>\n",
       "</div>"
      ],
      "text/plain": [
       "            total_transactions  total_products  total_unique_products  \\\n",
       "CustomerID                                                              \n",
       "12347                        7             182                    103   \n",
       "12348                        4              31                     22   \n",
       "12349                        1              73                     73   \n",
       "12350                        1              17                     17   \n",
       "12352                        8              85                     59   \n",
       "\n",
       "            avg_product_value  total_sales  min_cart_value  max_cart_value  \\\n",
       "CustomerID                                                                   \n",
       "12347               23.681319      4310.00          224.82         1294.32   \n",
       "12348               57.975484      1797.24          227.44          892.80   \n",
       "12349               24.076027      1757.55         1757.55         1757.55   \n",
       "12350               19.670588       334.40          334.40          334.40   \n",
       "12352               29.482824      2506.04          120.33          840.30   \n",
       "\n",
       "            avg_cart_value  21086  23206   ...     22551  22629  22328  21731  \\\n",
       "CustomerID                                 ...                                  \n",
       "12347           615.714286      0      0   ...         0      0      0      5   \n",
       "12348           449.310000      0      0   ...         0      0      0      0   \n",
       "12349          1757.550000      1      0   ...         0      0      0      0   \n",
       "12350           334.400000      0      0   ...         1      0      0      0   \n",
       "12352           313.255000      0      0   ...         0      0      0      1   \n",
       "\n",
       "            22556  22554  22423  22326  POST  cluster  \n",
       "CustomerID                                             \n",
       "12347           0      0      4      0     0        2  \n",
       "12348           0      0      0      0     4        0  \n",
       "12349           1      1      1      1     1        0  \n",
       "12350           0      0      0      0     1        0  \n",
       "12352           0      0      2      0     5        0  \n",
       "\n",
       "[5 rows x 40 columns]"
      ]
     },
     "execution_count": 13,
     "metadata": {},
     "output_type": "execute_result"
    }
   ],
   "source": [
    "k_means = make_pipeline(StandardScaler(), KMeans(n_clusters=3, random_state=123))\n",
    "k_means.fit(threshold_df)\n",
    "threshold_df['cluster'] = k_means.predict(threshold_df)\n",
    "threshold_df.head()"
   ]
  },
  {
   "cell_type": "code",
   "execution_count": 14,
   "metadata": {},
   "outputs": [
    {
     "data": {
      "text/plain": [
       "<seaborn.axisgrid.FacetGrid at 0x1a1d5f3590>"
      ]
     },
     "execution_count": 14,
     "metadata": {},
     "output_type": "execute_result"
    },
    {
     "data": {
      "image/png": "[encoded data removed]",
      "text/plain": [
       "<matplotlib.figure.Figure at 0x1a1d5f3610>"
      ]
     },
     "metadata": {},
     "output_type": "display_data"
    }
   ],
   "source": [
    "sns.lmplot(x='total_sales', y='avg_cart_value', hue='cluster', data=threshold_df, fit_reg=False)"
   ]
  },
  {
   "cell_type": "markdown",
   "metadata": {},
   "source": [
    "## KMeans on pca_df"
   ]
  },
  {
   "cell_type": "code",
   "execution_count": 15,
   "metadata": {},
   "outputs": [
    {
     "data": {
      "text/html": [
       "<div>\n",
       "<style scoped>\n",
       "    .dataframe tbody tr th:only-of-type {\n",
       "        vertical-align: middle;\n",
       "    }\n",
       "\n",
       "    .dataframe tbody tr th {\n",
       "        vertical-align: top;\n",
       "    }\n",
       "\n",
       "    .dataframe thead th {\n",
       "        text-align: right;\n",
       "    }\n",
       "</style>\n",
       "<table border=\"1\" class=\"dataframe\">\n",
       "  <thead>\n",
       "    <tr style=\"text-align: right;\">\n",
       "      <th></th>\n",
       "      <th>total_transactions</th>\n",
       "      <th>total_products</th>\n",
       "      <th>total_unique_products</th>\n",
       "      <th>avg_product_value</th>\n",
       "      <th>total_sales</th>\n",
       "      <th>min_cart_value</th>\n",
       "      <th>max_cart_value</th>\n",
       "      <th>avg_cart_value</th>\n",
       "      <th>PC1</th>\n",
       "      <th>PC2</th>\n",
       "      <th>...</th>\n",
       "      <th>PC122</th>\n",
       "      <th>PC123</th>\n",
       "      <th>PC124</th>\n",
       "      <th>PC125</th>\n",
       "      <th>PC126</th>\n",
       "      <th>PC127</th>\n",
       "      <th>PC128</th>\n",
       "      <th>PC129</th>\n",
       "      <th>PC130</th>\n",
       "      <th>cluster</th>\n",
       "    </tr>\n",
       "    <tr>\n",
       "      <th>CustomerID</th>\n",
       "      <th></th>\n",
       "      <th></th>\n",
       "      <th></th>\n",
       "      <th></th>\n",
       "      <th></th>\n",
       "      <th></th>\n",
       "      <th></th>\n",
       "      <th></th>\n",
       "      <th></th>\n",
       "      <th></th>\n",
       "      <th></th>\n",
       "      <th></th>\n",
       "      <th></th>\n",
       "      <th></th>\n",
       "      <th></th>\n",
       "      <th></th>\n",
       "      <th></th>\n",
       "      <th></th>\n",
       "      <th></th>\n",
       "      <th></th>\n",
       "      <th></th>\n",
       "    </tr>\n",
       "  </thead>\n",
       "  <tbody>\n",
       "    <tr>\n",
       "      <th>12347</th>\n",
       "      <td>7</td>\n",
       "      <td>182</td>\n",
       "      <td>103</td>\n",
       "      <td>23.681319</td>\n",
       "      <td>4310.00</td>\n",
       "      <td>224.82</td>\n",
       "      <td>1294.32</td>\n",
       "      <td>615.714286</td>\n",
       "      <td>5.876142</td>\n",
       "      <td>4.828928</td>\n",
       "      <td>...</td>\n",
       "      <td>0.620406</td>\n",
       "      <td>-0.257790</td>\n",
       "      <td>0.592536</td>\n",
       "      <td>-0.173065</td>\n",
       "      <td>-0.499284</td>\n",
       "      <td>0.475380</td>\n",
       "      <td>-0.068648</td>\n",
       "      <td>0.236544</td>\n",
       "      <td>0.636234</td>\n",
       "      <td>0</td>\n",
       "    </tr>\n",
       "    <tr>\n",
       "      <th>12348</th>\n",
       "      <td>4</td>\n",
       "      <td>31</td>\n",
       "      <td>22</td>\n",
       "      <td>57.975484</td>\n",
       "      <td>1797.24</td>\n",
       "      <td>227.44</td>\n",
       "      <td>892.80</td>\n",
       "      <td>449.310000</td>\n",
       "      <td>-4.219831</td>\n",
       "      <td>1.226259</td>\n",
       "      <td>...</td>\n",
       "      <td>-0.574109</td>\n",
       "      <td>-0.919167</td>\n",
       "      <td>-0.350570</td>\n",
       "      <td>-1.120047</td>\n",
       "      <td>0.742861</td>\n",
       "      <td>-0.875401</td>\n",
       "      <td>-1.138092</td>\n",
       "      <td>0.907499</td>\n",
       "      <td>-0.296269</td>\n",
       "      <td>2</td>\n",
       "    </tr>\n",
       "    <tr>\n",
       "      <th>12349</th>\n",
       "      <td>1</td>\n",
       "      <td>73</td>\n",
       "      <td>73</td>\n",
       "      <td>24.076027</td>\n",
       "      <td>1757.55</td>\n",
       "      <td>1757.55</td>\n",
       "      <td>1757.55</td>\n",
       "      <td>1757.550000</td>\n",
       "      <td>-1.260838</td>\n",
       "      <td>2.387704</td>\n",
       "      <td>...</td>\n",
       "      <td>1.399162</td>\n",
       "      <td>-3.128503</td>\n",
       "      <td>1.244966</td>\n",
       "      <td>-4.038387</td>\n",
       "      <td>-4.204556</td>\n",
       "      <td>6.178445</td>\n",
       "      <td>1.899059</td>\n",
       "      <td>-5.164789</td>\n",
       "      <td>0.828374</td>\n",
       "      <td>2</td>\n",
       "    </tr>\n",
       "    <tr>\n",
       "      <th>12350</th>\n",
       "      <td>1</td>\n",
       "      <td>17</td>\n",
       "      <td>17</td>\n",
       "      <td>19.670588</td>\n",
       "      <td>334.40</td>\n",
       "      <td>334.40</td>\n",
       "      <td>334.40</td>\n",
       "      <td>334.400000</td>\n",
       "      <td>-4.929319</td>\n",
       "      <td>-0.714871</td>\n",
       "      <td>...</td>\n",
       "      <td>0.234113</td>\n",
       "      <td>0.726583</td>\n",
       "      <td>-1.280786</td>\n",
       "      <td>-0.501006</td>\n",
       "      <td>-0.210785</td>\n",
       "      <td>0.495302</td>\n",
       "      <td>-0.739222</td>\n",
       "      <td>-0.212180</td>\n",
       "      <td>1.682187</td>\n",
       "      <td>2</td>\n",
       "    </tr>\n",
       "    <tr>\n",
       "      <th>12352</th>\n",
       "      <td>8</td>\n",
       "      <td>85</td>\n",
       "      <td>59</td>\n",
       "      <td>29.482824</td>\n",
       "      <td>2506.04</td>\n",
       "      <td>120.33</td>\n",
       "      <td>840.30</td>\n",
       "      <td>313.255000</td>\n",
       "      <td>-2.053117</td>\n",
       "      <td>2.111166</td>\n",
       "      <td>...</td>\n",
       "      <td>6.625053</td>\n",
       "      <td>2.008473</td>\n",
       "      <td>-2.231867</td>\n",
       "      <td>1.640222</td>\n",
       "      <td>-1.397512</td>\n",
       "      <td>-3.820568</td>\n",
       "      <td>-1.148290</td>\n",
       "      <td>-4.764419</td>\n",
       "      <td>-0.856397</td>\n",
       "      <td>2</td>\n",
       "    </tr>\n",
       "  </tbody>\n",
       "</table>\n",
       "<p>5 rows × 139 columns</p>\n",
       "</div>"
      ],
      "text/plain": [
       "            total_transactions  total_products  total_unique_products  \\\n",
       "CustomerID                                                              \n",
       "12347                        7             182                    103   \n",
       "12348                        4              31                     22   \n",
       "12349                        1              73                     73   \n",
       "12350                        1              17                     17   \n",
       "12352                        8              85                     59   \n",
       "\n",
       "            avg_product_value  total_sales  min_cart_value  max_cart_value  \\\n",
       "CustomerID                                                                   \n",
       "12347               23.681319      4310.00          224.82         1294.32   \n",
       "12348               57.975484      1797.24          227.44          892.80   \n",
       "12349               24.076027      1757.55         1757.55         1757.55   \n",
       "12350               19.670588       334.40          334.40          334.40   \n",
       "12352               29.482824      2506.04          120.33          840.30   \n",
       "\n",
       "            avg_cart_value       PC1       PC2   ...        PC122     PC123  \\\n",
       "CustomerID                                       ...                          \n",
       "12347           615.714286  5.876142  4.828928   ...     0.620406 -0.257790   \n",
       "12348           449.310000 -4.219831  1.226259   ...    -0.574109 -0.919167   \n",
       "12349          1757.550000 -1.260838  2.387704   ...     1.399162 -3.128503   \n",
       "12350           334.400000 -4.929319 -0.714871   ...     0.234113  0.726583   \n",
       "12352           313.255000 -2.053117  2.111166   ...     6.625053  2.008473   \n",
       "\n",
       "               PC124     PC125     PC126     PC127     PC128     PC129  \\\n",
       "CustomerID                                                               \n",
       "12347       0.592536 -0.173065 -0.499284  0.475380 -0.068648  0.236544   \n",
       "12348      -0.350570 -1.120047  0.742861 -0.875401 -1.138092  0.907499   \n",
       "12349       1.244966 -4.038387 -4.204556  6.178445  1.899059 -5.164789   \n",
       "12350      -1.280786 -0.501006 -0.210785  0.495302 -0.739222 -0.212180   \n",
       "12352      -2.231867  1.640222 -1.397512 -3.820568 -1.148290 -4.764419   \n",
       "\n",
       "               PC130  cluster  \n",
       "CustomerID                     \n",
       "12347       0.636234        0  \n",
       "12348      -0.296269        2  \n",
       "12349       0.828374        2  \n",
       "12350       1.682187        2  \n",
       "12352      -0.856397        2  \n",
       "\n",
       "[5 rows x 139 columns]"
      ]
     },
     "execution_count": 15,
     "metadata": {},
     "output_type": "execute_result"
    }
   ],
   "source": [
    "k_means = make_pipeline(StandardScaler(), KMeans(n_clusters=3, random_state=123))\n",
    "k_means.fit(pca_df)\n",
    "pca_df['cluster'] = k_means.predict(pca_df)\n",
    "pca_df.head()"
   ]
  },
  {
   "cell_type": "code",
   "execution_count": 16,
   "metadata": {},
   "outputs": [
    {
     "data": {
      "text/plain": [
       "<seaborn.axisgrid.FacetGrid at 0x1a1e290150>"
      ]
     },
     "execution_count": 16,
     "metadata": {},
     "output_type": "execute_result"
    },
    {
     "data": {
      "image/png": "[encoded data removed]",
      "text/plain": [
       "<matplotlib.figure.Figure at 0x11413ce10>"
      ]
     },
     "metadata": {},
     "output_type": "display_data"
    }
   ],
   "source": [
    "sns.lmplot(x='total_sales', y='avg_cart_value', hue='cluster', data=pca_df, fit_reg=False)"
   ]
  },
  {
   "cell_type": "markdown",
   "metadata": {},
   "source": [
    "## KMeans on pca_short_df"
   ]
  },
  {
   "cell_type": "code",
   "execution_count": 17,
   "metadata": {},
   "outputs": [
    {
     "data": {
      "text/html": [
       "<div>\n",
       "<style scoped>\n",
       "    .dataframe tbody tr th:only-of-type {\n",
       "        vertical-align: middle;\n",
       "    }\n",
       "\n",
       "    .dataframe tbody tr th {\n",
       "        vertical-align: top;\n",
       "    }\n",
       "\n",
       "    .dataframe thead th {\n",
       "        text-align: right;\n",
       "    }\n",
       "</style>\n",
       "<table border=\"1\" class=\"dataframe\">\n",
       "  <thead>\n",
       "    <tr style=\"text-align: right;\">\n",
       "      <th></th>\n",
       "      <th>total_transactions</th>\n",
       "      <th>total_products</th>\n",
       "      <th>total_unique_products</th>\n",
       "      <th>avg_product_value</th>\n",
       "      <th>total_sales</th>\n",
       "      <th>min_cart_value</th>\n",
       "      <th>max_cart_value</th>\n",
       "      <th>avg_cart_value</th>\n",
       "      <th>PC1</th>\n",
       "      <th>PC2</th>\n",
       "      <th>...</th>\n",
       "      <th>PC22</th>\n",
       "      <th>PC23</th>\n",
       "      <th>PC24</th>\n",
       "      <th>PC25</th>\n",
       "      <th>PC26</th>\n",
       "      <th>PC27</th>\n",
       "      <th>PC28</th>\n",
       "      <th>PC29</th>\n",
       "      <th>PC30</th>\n",
       "      <th>cluster</th>\n",
       "    </tr>\n",
       "    <tr>\n",
       "      <th>CustomerID</th>\n",
       "      <th></th>\n",
       "      <th></th>\n",
       "      <th></th>\n",
       "      <th></th>\n",
       "      <th></th>\n",
       "      <th></th>\n",
       "      <th></th>\n",
       "      <th></th>\n",
       "      <th></th>\n",
       "      <th></th>\n",
       "      <th></th>\n",
       "      <th></th>\n",
       "      <th></th>\n",
       "      <th></th>\n",
       "      <th></th>\n",
       "      <th></th>\n",
       "      <th></th>\n",
       "      <th></th>\n",
       "      <th></th>\n",
       "      <th></th>\n",
       "      <th></th>\n",
       "    </tr>\n",
       "  </thead>\n",
       "  <tbody>\n",
       "    <tr>\n",
       "      <th>12347</th>\n",
       "      <td>7</td>\n",
       "      <td>182</td>\n",
       "      <td>103</td>\n",
       "      <td>23.681319</td>\n",
       "      <td>4310.00</td>\n",
       "      <td>224.82</td>\n",
       "      <td>1294.32</td>\n",
       "      <td>615.714286</td>\n",
       "      <td>5.876274</td>\n",
       "      <td>4.831762</td>\n",
       "      <td>...</td>\n",
       "      <td>8.047806</td>\n",
       "      <td>41.283714</td>\n",
       "      <td>-37.394419</td>\n",
       "      <td>-15.629249</td>\n",
       "      <td>7.792009</td>\n",
       "      <td>19.995146</td>\n",
       "      <td>6.662616</td>\n",
       "      <td>-22.762139</td>\n",
       "      <td>-33.688975</td>\n",
       "      <td>2</td>\n",
       "    </tr>\n",
       "    <tr>\n",
       "      <th>12348</th>\n",
       "      <td>4</td>\n",
       "      <td>31</td>\n",
       "      <td>22</td>\n",
       "      <td>57.975484</td>\n",
       "      <td>1797.24</td>\n",
       "      <td>227.44</td>\n",
       "      <td>892.80</td>\n",
       "      <td>449.310000</td>\n",
       "      <td>-4.219832</td>\n",
       "      <td>1.226449</td>\n",
       "      <td>...</td>\n",
       "      <td>0.037665</td>\n",
       "      <td>0.498985</td>\n",
       "      <td>0.301980</td>\n",
       "      <td>1.333156</td>\n",
       "      <td>-0.678253</td>\n",
       "      <td>-0.069919</td>\n",
       "      <td>1.025139</td>\n",
       "      <td>-0.106025</td>\n",
       "      <td>-0.007098</td>\n",
       "      <td>0</td>\n",
       "    </tr>\n",
       "    <tr>\n",
       "      <th>12349</th>\n",
       "      <td>1</td>\n",
       "      <td>73</td>\n",
       "      <td>73</td>\n",
       "      <td>24.076027</td>\n",
       "      <td>1757.55</td>\n",
       "      <td>1757.55</td>\n",
       "      <td>1757.55</td>\n",
       "      <td>1757.550000</td>\n",
       "      <td>-1.260826</td>\n",
       "      <td>2.388205</td>\n",
       "      <td>...</td>\n",
       "      <td>0.428412</td>\n",
       "      <td>-0.685355</td>\n",
       "      <td>1.549563</td>\n",
       "      <td>-1.581893</td>\n",
       "      <td>0.230518</td>\n",
       "      <td>-0.890377</td>\n",
       "      <td>0.940356</td>\n",
       "      <td>0.836539</td>\n",
       "      <td>-1.137101</td>\n",
       "      <td>0</td>\n",
       "    </tr>\n",
       "    <tr>\n",
       "      <th>12350</th>\n",
       "      <td>1</td>\n",
       "      <td>17</td>\n",
       "      <td>17</td>\n",
       "      <td>19.670588</td>\n",
       "      <td>334.40</td>\n",
       "      <td>334.40</td>\n",
       "      <td>334.40</td>\n",
       "      <td>334.400000</td>\n",
       "      <td>-4.929325</td>\n",
       "      <td>-0.714888</td>\n",
       "      <td>...</td>\n",
       "      <td>0.894924</td>\n",
       "      <td>1.358928</td>\n",
       "      <td>0.203494</td>\n",
       "      <td>-0.193021</td>\n",
       "      <td>-0.195534</td>\n",
       "      <td>-0.561222</td>\n",
       "      <td>1.252332</td>\n",
       "      <td>0.051633</td>\n",
       "      <td>-0.183793</td>\n",
       "      <td>0</td>\n",
       "    </tr>\n",
       "    <tr>\n",
       "      <th>12352</th>\n",
       "      <td>8</td>\n",
       "      <td>85</td>\n",
       "      <td>59</td>\n",
       "      <td>29.482824</td>\n",
       "      <td>2506.04</td>\n",
       "      <td>120.33</td>\n",
       "      <td>840.30</td>\n",
       "      <td>313.255000</td>\n",
       "      <td>-2.053136</td>\n",
       "      <td>2.110795</td>\n",
       "      <td>...</td>\n",
       "      <td>-0.950596</td>\n",
       "      <td>-2.248489</td>\n",
       "      <td>0.661647</td>\n",
       "      <td>-2.082930</td>\n",
       "      <td>-0.690487</td>\n",
       "      <td>-1.097586</td>\n",
       "      <td>-1.870677</td>\n",
       "      <td>-0.998540</td>\n",
       "      <td>0.555846</td>\n",
       "      <td>0</td>\n",
       "    </tr>\n",
       "  </tbody>\n",
       "</table>\n",
       "<p>5 rows × 39 columns</p>\n",
       "</div>"
      ],
      "text/plain": [
       "            total_transactions  total_products  total_unique_products  \\\n",
       "CustomerID                                                              \n",
       "12347                        7             182                    103   \n",
       "12348                        4              31                     22   \n",
       "12349                        1              73                     73   \n",
       "12350                        1              17                     17   \n",
       "12352                        8              85                     59   \n",
       "\n",
       "            avg_product_value  total_sales  min_cart_value  max_cart_value  \\\n",
       "CustomerID                                                                   \n",
       "12347               23.681319      4310.00          224.82         1294.32   \n",
       "12348               57.975484      1797.24          227.44          892.80   \n",
       "12349               24.076027      1757.55         1757.55         1757.55   \n",
       "12350               19.670588       334.40          334.40          334.40   \n",
       "12352               29.482824      2506.04          120.33          840.30   \n",
       "\n",
       "            avg_cart_value       PC1       PC2   ...         PC22       PC23  \\\n",
       "CustomerID                                       ...                           \n",
       "12347           615.714286  5.876274  4.831762   ...     8.047806  41.283714   \n",
       "12348           449.310000 -4.219832  1.226449   ...     0.037665   0.498985   \n",
       "12349          1757.550000 -1.260826  2.388205   ...     0.428412  -0.685355   \n",
       "12350           334.400000 -4.929325 -0.714888   ...     0.894924   1.358928   \n",
       "12352           313.255000 -2.053136  2.110795   ...    -0.950596  -2.248489   \n",
       "\n",
       "                 PC24       PC25      PC26       PC27      PC28       PC29  \\\n",
       "CustomerID                                                                   \n",
       "12347      -37.394419 -15.629249  7.792009  19.995146  6.662616 -22.762139   \n",
       "12348        0.301980   1.333156 -0.678253  -0.069919  1.025139  -0.106025   \n",
       "12349        1.549563  -1.581893  0.230518  -0.890377  0.940356   0.836539   \n",
       "12350        0.203494  -0.193021 -0.195534  -0.561222  1.252332   0.051633   \n",
       "12352        0.661647  -2.082930 -0.690487  -1.097586 -1.870677  -0.998540   \n",
       "\n",
       "                 PC30  cluster  \n",
       "CustomerID                      \n",
       "12347      -33.688975        2  \n",
       "12348       -0.007098        0  \n",
       "12349       -1.137101        0  \n",
       "12350       -0.183793        0  \n",
       "12352        0.555846        0  \n",
       "\n",
       "[5 rows x 39 columns]"
      ]
     },
     "execution_count": 17,
     "metadata": {},
     "output_type": "execute_result"
    }
   ],
   "source": [
    "k_means = make_pipeline(StandardScaler(), KMeans(n_clusters=3, random_state=123))\n",
    "k_means.fit(pca_short_df)\n",
    "pca_short_df['cluster'] = k_means.predict(pca_short_df)\n",
    "pca_short_df.head()"
   ]
  },
  {
   "cell_type": "code",
   "execution_count": 18,
   "metadata": {},
   "outputs": [
    {
     "data": {
      "text/plain": [
       "<seaborn.axisgrid.FacetGrid at 0x10c972910>"
      ]
     },
     "execution_count": 18,
     "metadata": {},
     "output_type": "execute_result"
    },
    {
     "data": {
      "image/png": "[encoded data removed]",
      "text/plain": [
       "<matplotlib.figure.Figure at 0x1a1e26c2d0>"
      ]
     },
     "metadata": {},
     "output_type": "display_data"
    }
   ],
   "source": [
    "sns.lmplot(x='total_sales', y='avg_cart_value', hue='cluster', data=pca_short_df, fit_reg=False)"
   ]
  },
  {
   "cell_type": "markdown",
   "metadata": {},
   "source": [
    "## Model comparison"
   ]
  },
  {
   "cell_type": "code",
   "execution_count": 20,
   "metadata": {},
   "outputs": [],
   "source": [
    "from sklearn.metrics import adjusted_rand_score"
   ]
  },
  {
   "cell_type": "code",
   "execution_count": 21,
   "metadata": {},
   "outputs": [
    {
     "data": {
      "text/plain": [
       "0.60933195122400741"
      ]
     },
     "execution_count": 21,
     "metadata": {},
     "output_type": "execute_result"
    }
   ],
   "source": [
    "adjusted_rand_score(base_df.cluster, threshold_df.cluster)"
   ]
  },
  {
   "cell_type": "code",
   "execution_count": 22,
   "metadata": {},
   "outputs": [
    {
     "data": {
      "text/plain": [
       "0.81403352989509081"
      ]
     },
     "execution_count": 22,
     "metadata": {},
     "output_type": "execute_result"
    }
   ],
   "source": [
    "adjusted_rand_score(base_df.cluster, pca_df.cluster)"
   ]
  },
  {
   "cell_type": "code",
   "execution_count": 23,
   "metadata": {},
   "outputs": [
    {
     "data": {
      "text/plain": [
       "0.85958129183388643"
      ]
     },
     "execution_count": 23,
     "metadata": {},
     "output_type": "execute_result"
    }
   ],
   "source": [
    "adjusted_rand_score(base_df.cluster, pca_short_df.cluster)"
   ]
  },
  {
   "cell_type": "code",
   "execution_count": 24,
   "metadata": {},
   "outputs": [
    {
     "data": {
      "text/plain": [
       "0.67356165777005061"
      ]
     },
     "execution_count": 24,
     "metadata": {},
     "output_type": "execute_result"
    }
   ],
   "source": [
    "adjusted_rand_score(threshold_df.cluster, pca_df.cluster)"
   ]
  },
  {
   "cell_type": "code",
   "execution_count": 25,
   "metadata": {},
   "outputs": [
    {
     "data": {
      "text/plain": [
       "0.57818903209033157"
      ]
     },
     "execution_count": 25,
     "metadata": {},
     "output_type": "execute_result"
    }
   ],
   "source": [
    "adjusted_rand_score(threshold_df.cluster, pca_short_df.cluster)"
   ]
  },
  {
   "cell_type": "code",
   "execution_count": 26,
   "metadata": {},
   "outputs": [
    {
     "data": {
      "text/plain": [
       "0.75801604901467257"
      ]
     },
     "execution_count": 26,
     "metadata": {},
     "output_type": "execute_result"
    }
   ],
   "source": [
    "adjusted_rand_score(pca_df.cluster, pca_short_df.cluster)"
   ]
  },
  {
   "cell_type": "code",
   "execution_count": null,
   "metadata": {},
   "outputs": [],
   "source": []
  }
 ],
 "metadata": {
  "kernelspec": {
   "display_name": "Python 2",
   "language": "python",
   "name": "python2"
  },
  "language_info": {
   "codemirror_mode": {
    "name": "ipython",
    "version": 2
   },
   "file_extension": ".py",
   "mimetype": "text/x-python",
   "name": "python",
   "nbconvert_exporter": "python",
   "pygments_lexer": "ipython2",
   "version": "2.7.14"
  }
 },
 "nbformat": 4,
 "nbformat_minor": 2
}
